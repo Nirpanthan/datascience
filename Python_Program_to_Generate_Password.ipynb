{
  "nbformat": 4,
  "nbformat_minor": 0,
  "metadata": {
    "colab": {
      "provenance": [],
      "authorship_tag": "ABX9TyMLwf/Iu1FHCvXfZ24uiXiz",
      "include_colab_link": true
    },
    "kernelspec": {
      "name": "python3",
      "display_name": "Python 3"
    },
    "language_info": {
      "name": "python"
    }
  },
  "cells": [
    {
      "cell_type": "markdown",
      "metadata": {
        "id": "view-in-github",
        "colab_type": "text"
      },
      "source": [
        "<a href=\"https://colab.research.google.com/github/Nirpanthan/datascience/blob/Python-Projects/Python_Program_to_Generate_Password.ipynb\" target=\"_parent\"><img src=\"https://colab.research.google.com/assets/colab-badge.svg\" alt=\"Open In Colab\"/></a>"
      ]
    },
    {
      "cell_type": "code",
      "execution_count": 2,
      "metadata": {
        "colab": {
          "base_uri": "https://localhost:8080/"
        },
        "id": "JMuO6YtQsXe0",
        "outputId": "6e536bb0-87bd-40e9-8dca-352aa8931ceb"
      },
      "outputs": [
        {
          "output_type": "stream",
          "name": "stdout",
          "text": [
            "enter the length of password10\n",
            "0q2@Lr$W1s\n"
          ]
        }
      ],
      "source": [
        "import random\n",
        "passlen = int(input(\"enter the length of password\"))\n",
        "s=\"abcdefghijklmnopqrstuvwxyz01234567890ABCDEFGHIJKLMNOPQRSTUVWXYZ!@#$%^&*()?\"\n",
        "p = \"\".join(random.sample(s,passlen ))\n",
        "print(p)"
      ]
    }
  ]
}