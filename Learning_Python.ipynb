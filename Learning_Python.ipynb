{
  "nbformat": 4,
  "nbformat_minor": 0,
  "metadata": {
    "colab": {
      "provenance": [],
      "authorship_tag": "ABX9TyM9Fnw4peedqdQrNK0Zv19I",
      "include_colab_link": true
    },
    "kernelspec": {
      "name": "python3",
      "display_name": "Python 3"
    },
    "language_info": {
      "name": "python"
    }
  },
  "cells": [
    {
      "cell_type": "markdown",
      "metadata": {
        "id": "view-in-github",
        "colab_type": "text"
      },
      "source": [
        "<a href=\"https://colab.research.google.com/github/Nirpanthan/datascience/blob/main/Learning_Python.ipynb\" target=\"_parent\"><img src=\"https://colab.research.google.com/assets/colab-badge.svg\" alt=\"Open In Colab\"/></a>"
      ]
    },
    {
      "cell_type": "code",
      "source": [
        "# Taking Input and Printing length of the Inputed name\n",
        "a = input(\"What is your name?\")\n",
        "print(a)\n",
        "print(len(a))"
      ],
      "metadata": {
        "colab": {
          "base_uri": "https://localhost:8080/"
        },
        "id": "3kweLIwfB0lW",
        "outputId": "fcdd3784-b9b3-495c-f97c-b762a95ca615"
      },
      "execution_count": null,
      "outputs": [
        {
          "output_type": "stream",
          "name": "stdout",
          "text": [
            "What is your name?Fire\n",
            "Fire\n",
            "4\n"
          ]
        }
      ]
    },
    {
      "cell_type": "code",
      "source": [],
      "metadata": {
        "id": "2-EA9scMeK7J"
      },
      "execution_count": null,
      "outputs": []
    },
    {
      "cell_type": "code",
      "source": [
        "#Brand Name Gererator Project-1\n",
        "#Create Greeting of the User\n",
        "print(\"Welcome to the band name generator.\")\n",
        "# Ask the user for the city they where born in\n",
        "City = input(\"Which City you were born in?\\n\")\n",
        "# Ask User Pet Name\n",
        "PetName = input(\"What is your pet name? \\n\")\n",
        "#Combine the name to generate the Band Name\n",
        "print(\"Your band name could be \"+ City +\" \"+PetName)\n",
        "\n",
        "\n"
      ],
      "metadata": {
        "colab": {
          "base_uri": "https://localhost:8080/"
        },
        "id": "4GBJ4d00fTk0",
        "outputId": "80b7d660-e510-4ef5-83a5-7582f21a9840"
      },
      "execution_count": null,
      "outputs": [
        {
          "output_type": "stream",
          "name": "stdout",
          "text": [
            "Welcome to the band name generator.\n",
            "Which City you were born in?\n",
            "UK\n",
            "What is your pet name? \n",
            "Jojo\n",
            "your band name could be UKJojo\n"
          ]
        }
      ]
    },
    {
      "cell_type": "code",
      "source": [
        "#Data Types\n",
        "#String\n",
        "print(\"Hello\"[4])\n",
        "#Interger\n",
        "print(1_1+99)\n",
        "#Float\n",
        "print(3.14)\n",
        "#Boolean\n",
        "True\n",
        "False\n",
        "\n",
        "#Integer to String\n",
        "num_char=len(input(\"What is your name?\\n\"))\n",
        "new_num_char_conver = str(num_char)\n",
        "print(\"Your Name has \"+new_num_char_conver+\" Characters\")"
      ],
      "metadata": {
        "colab": {
          "base_uri": "https://localhost:8080/"
        },
        "id": "bOkD7NN1hFFr",
        "outputId": "d9aae23f-eaf0-4610-b57a-c031ddeb424e"
      },
      "execution_count": null,
      "outputs": [
        {
          "output_type": "stream",
          "name": "stdout",
          "text": [
            "o\n",
            "110\n",
            "3.14\n",
            "What is your name?\n",
            "Nirpanthan\n",
            "Your Name has 10 Characters\n"
          ]
        }
      ]
    },
    {
      "cell_type": "code",
      "source": [
        "Two_digit_number=input(\"Give a number?\\n\")\n",
        "#print(type(Two_digit_number))\n",
        "first_digit=int(Two_digit_number[0])\n",
        "second_digit=int(Two_digit_number[1])\n",
        "Two_digit_number=first_digit+second_digit\n",
        "print(Two_digit_number)"
      ],
      "metadata": {
        "colab": {
          "base_uri": "https://localhost:8080/"
        },
        "id": "hiIpQqS9EU7P",
        "outputId": "ca2cb6a0-440e-40d4-d67b-f1a6808653cc"
      },
      "execution_count": null,
      "outputs": [
        {
          "output_type": "stream",
          "name": "stdout",
          "text": [
            "Give a number?\n",
            "28\n",
            "<class 'str'>\n",
            "10\n"
          ]
        }
      ]
    },
    {
      "cell_type": "code",
      "source": [
        "#BMI\n",
        "#input height in meters eg;1.25\n",
        "height=input()\n",
        "#input weight in KG eg:72\n",
        "weight=input()\n",
        "weight_as_int=int(weight)\n",
        "height_as_float=float(height)\n",
        "bmi=weight_as_int/height_as_float**2\n",
        "bmi=weight_as_int/(height_as_float*height_as_float)\n",
        "bmi_as_int=int(round(bmi,2))\n",
        "print(bmi_as_int)"
      ],
      "metadata": {
        "colab": {
          "base_uri": "https://localhost:8080/"
        },
        "id": "VZLwKTRBGydg",
        "outputId": "bba43040-2884-49a7-87d1-8ff0242cc7fd"
      },
      "execution_count": null,
      "outputs": [
        {
          "output_type": "stream",
          "name": "stdout",
          "text": [
            "1.75\n",
            "90\n",
            "29\n"
          ]
        }
      ]
    },
    {
      "cell_type": "code",
      "source": [
        "#Weeks Calculator\n",
        "age=input()\n",
        "years=90-int(age)\n",
        "weeks=years*52\n",
        "print(f\"You have {weeks} Weeks Remaining\")\n",
        "print(6 + 4 / 2 - (1 * 2))\n",
        "a = int(\"5\") / int(2.7)\n",
        "print(type(a))"
      ],
      "metadata": {
        "colab": {
          "base_uri": "https://localhost:8080/"
        },
        "id": "sJUaH_RxJO6l",
        "outputId": "661e1cac-81f0-45f9-f536-5d3b64961b3b"
      },
      "execution_count": null,
      "outputs": [
        {
          "output_type": "stream",
          "name": "stdout",
          "text": [
            "1\n",
            "You have 4628 Weeks Remaining\n",
            "6.0\n",
            "<class 'float'>\n"
          ]
        }
      ]
    },
    {
      "cell_type": "code",
      "source": [
        "#Tip Calculator\n",
        "print(\"Welcome to Tip Calculator.\\n\")\n",
        "bill=float(input(\"What was the Total Bill $ ?\\n\"))\n",
        "tip=int(input(\"what percentage tip would you like to give ?\\n\"))\n",
        "people_split=int(input(\"How many people to split the bill?\\n\"))\n",
        "#= tip_percentage/100 * bill +bill\n",
        "tip_as_percent=tip/100\n",
        "total_tip_amount=bill* tip_as_percent\n",
        "total_bill = bill + total_tip_amount\n",
        "bill_per_person = total_bill/people_split\n",
        "final_amount = \"{:.2f}\".format(bill_per_person)   #two round of  2 ways        #round(bill_per_person,2)\n",
        "print(f\"Each person should pay: $ {final_amount}\")\n"
      ],
      "metadata": {
        "colab": {
          "base_uri": "https://localhost:8080/"
        },
        "id": "krmQZ8RSKCPp",
        "outputId": "300bb125-3f81-43b4-f58c-543d4a9b4005"
      },
      "execution_count": null,
      "outputs": [
        {
          "output_type": "stream",
          "name": "stdout",
          "text": [
            "Welcome to Tip Calculator.\n",
            "\n",
            "What was the Total Bill $ ?\n",
            "222\n",
            "what percentage tip would you like to give ?\n",
            "12\n",
            "How many people to split the bill?\n",
            "2\n",
            "Each person should pay: $ 124.32\n"
          ]
        }
      ]
    }
  ]
}